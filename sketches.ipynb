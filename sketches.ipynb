{
  "nbformat": 4,
  "nbformat_minor": 0,
  "metadata": {
    "colab": {
      "name": "sketches.ipynb",
      "provenance": []
    },
    "kernelspec": {
      "name": "python3",
      "display_name": "Python 3"
    },
    "language_info": {
      "name": "python"
    }
  },
  "cells": [
    {
      "cell_type": "code",
      "metadata": {
        "id": "DMjZpZ1ZyWTt"
      },
      "source": [
        "import numpy as np\n",
        "import pandas as pd\n",
        "import matplotlib.pyplot as plt\n",
        "from statistics import median\n",
        "from tqdm import tqdm"
      ],
      "execution_count": 1,
      "outputs": []
    },
    {
      "cell_type": "code",
      "metadata": {
        "colab": {
          "base_uri": "https://localhost:8080/"
        },
        "id": "UIr4jPHeyasg",
        "outputId": "9f3e1e5d-c0f5-44ae-e35a-be795a5133f2"
      },
      "source": [
        "# Getting the Dataset from my Github Repo\n",
        "!wget --no-check-certificate https://raw.githubusercontent.com/mihirjain-iitgn/dataset_dS_A1/main/dataset.csv\n",
        "!wget --no-check-certificate https://raw.githubusercontent.com/mihirjain-iitgn/dataset_dS_A1/main/queries.csv"
      ],
      "execution_count": 2,
      "outputs": [
        {
          "output_type": "stream",
          "text": [
            "--2021-07-02 19:56:20--  https://raw.githubusercontent.com/mihirjain-iitgn/dataset_dS_A1/main/dataset.csv\n",
            "Resolving raw.githubusercontent.com (raw.githubusercontent.com)... 185.199.108.133, 185.199.109.133, 185.199.110.133, ...\n",
            "Connecting to raw.githubusercontent.com (raw.githubusercontent.com)|185.199.108.133|:443... connected.\n",
            "HTTP request sent, awaiting response... 200 OK\n",
            "Length: 11296921 (11M) [text/plain]\n",
            "Saving to: ‘dataset.csv’\n",
            "\n",
            "dataset.csv         100%[===================>]  10.77M  22.5MB/s    in 0.5s    \n",
            "\n",
            "2021-07-02 19:56:20 (22.5 MB/s) - ‘dataset.csv’ saved [11296921/11296921]\n",
            "\n",
            "--2021-07-02 19:56:20--  https://raw.githubusercontent.com/mihirjain-iitgn/dataset_dS_A1/main/queries.csv\n",
            "Resolving raw.githubusercontent.com (raw.githubusercontent.com)... 185.199.108.133, 185.199.109.133, 185.199.110.133, ...\n",
            "Connecting to raw.githubusercontent.com (raw.githubusercontent.com)|185.199.108.133|:443... connected.\n",
            "HTTP request sent, awaiting response... 200 OK\n",
            "Length: 9954 (9.7K) [text/plain]\n",
            "Saving to: ‘queries.csv’\n",
            "\n",
            "queries.csv         100%[===================>]   9.72K  --.-KB/s    in 0s      \n",
            "\n",
            "2021-07-02 19:56:21 (94.1 MB/s) - ‘queries.csv’ saved [9954/9954]\n",
            "\n"
          ],
          "name": "stdout"
        }
      ]
    },
    {
      "cell_type": "code",
      "metadata": {
        "id": "BAw6xYysdUHw"
      },
      "source": [
        "class HashFunction1():\n",
        "  def __init__(self, n):\n",
        "    \"\"\"\n",
        "    Parameters :\n",
        "    > n : int. The range of ouput of the hash function will be [0,n)\n",
        "\n",
        "    The hash is calculated using the following formula :\n",
        "    > ((a*x)mod(p))mod(n)\n",
        "      > x : Input\n",
        "      > p : A big prime number. Taken to be 2**31 in this implementation.\n",
        "      > a : A number in range [1,p)\n",
        "      > b : A number in range [1,p)\n",
        "    \"\"\"\n",
        "    self.__n = n\n",
        "    self.__p = 2147483647\n",
        "    self.__a = np.random.randint(1,self.__p) \n",
        "    self.__b = np.random.randint(1,self.__p)\n",
        "  \n",
        "  def __getitem__(self,x):\n",
        "    \"\"\"\n",
        "    Parameters :\n",
        "    > x : int. Number whose hash is to be calculated.\n",
        "    \"\"\"\n",
        "    return ((self.__a*x+self.__b)%self.__p)%self.__n"
      ],
      "execution_count": 3,
      "outputs": []
    },
    {
      "cell_type": "code",
      "metadata": {
        "id": "xCTDyoggkYqA"
      },
      "source": [
        "class HashFunction2():\n",
        "  def __init__(self):\n",
        "    \"\"\"\n",
        "    The hash is calculated using the following formula :\n",
        "    > ((a*x)mod(p))mod(2)\n",
        "      > x : Input\n",
        "      > p : A big prime number. Taken to be 2**31 in this implementation.\n",
        "      > a : A number in range [0,p)\n",
        "    > The range of the output of the hash function is {0,1}. To get the range as {-1,1}, all 0s are returned as -1.\n",
        "    \"\"\"\n",
        "    self.__p = 2147483647\n",
        "    self.__a = np.random.randint(1,self.__p) \n",
        "    self.__b = np.random.randint(1,self.__p)\n",
        "  \n",
        "  def __getitem__(self,x):\n",
        "    \"\"\"\n",
        "    Parameters :\n",
        "    > x : int. Number whose hash is to be calculated.\n",
        "    \"\"\"\n",
        "    if ((self.__a*x + self.__b)%self.__p)%2 == 1:\n",
        "      # Result of hash is 1\n",
        "      return 1\n",
        "    else:\n",
        "      # Result of hash is 0\n",
        "      return -1"
      ],
      "execution_count": 4,
      "outputs": []
    },
    {
      "cell_type": "code",
      "metadata": {
        "id": "ZWn3ftvl1o6S"
      },
      "source": [
        "class MisraGries():\n",
        "\n",
        "  def __init__(self, k):\n",
        "    \"\"\"\n",
        "    Parameters :\n",
        "    > k : int. Number of Counters.\n",
        "\n",
        "    Other Variables Initialised :\n",
        "    > __used : int. The current number of elements in the sketch.\n",
        "    > __elements : Dictionary. Stores the estimates of the frequencies of present elements.\n",
        "    \"\"\"\n",
        "    self.__k = k\n",
        "    self.__used = 0\n",
        "    self.__elements = {}\n",
        "  \n",
        "  def process(self, x, y):\n",
        "    \"\"\"\n",
        "    Parameters :\n",
        "    > x : int. Identifier for an element.\n",
        "    > y : int. Frequency for this element/\n",
        "    \"\"\"\n",
        "    if x in self.__elements:\n",
        "      # Element already in the sketch.\n",
        "      self.__elements[x] += y\n",
        "    elif self.__k>self.__used:\n",
        "      # Element not there but there is space.\n",
        "      self.__elements[x] = y\n",
        "      self.__used += 1\n",
        "    else:\n",
        "      # Element not present and no space.\n",
        "      self.__decrement(x,y)\n",
        "    \n",
        "  def query(self,x):\n",
        "    \"\"\"\n",
        "    Parameters :\n",
        "    > x : int. Element whose frequency is queried.\n",
        "    \"\"\"\n",
        "    if x in self.__elements:\n",
        "      # Element Present.\n",
        "      return self.__elements[x]\n",
        "    else:\n",
        "      # 0 is used an estimate for other elements.\n",
        "      return 0\n",
        "\n",
        "  def __decrement(self,x,y):\n",
        "    \"\"\"\n",
        "    Parameters :\n",
        "    > x : int. Identifier for an element.\n",
        "    > y : int. Frequency for this element/\n",
        "    \"\"\"\n",
        "    # Will hold the largest frequency smaller than y.\n",
        "    mm = -1\n",
        "    for key in self.__elements:\n",
        "      if y>self.__elements[key]:\n",
        "        mm = max(self.__elements[key],mm)\n",
        "    keys = list(self.__elements.keys()).copy()\n",
        "    if mm == -1:\n",
        "      # No frequency is smaller than y\n",
        "      for key in keys:\n",
        "        self.__elements[key] -= y\n",
        "    else:\n",
        "      # Atleast one element has frequency smaller than y.\n",
        "      for key in keys:\n",
        "        self.__elements[key] -= mm\n",
        "        # All elements with frequency smaller or equal to mm are thrown.\n",
        "        if 0 >= self.__elements[key]:\n",
        "          self.__elements.pop(key)\n",
        "          self.__used -= 1\n",
        "      # x is added to the sketch.\n",
        "      self.__elements[x] = y-mm # mm must substracted from y also.\n",
        "      self.__used += 1"
      ],
      "execution_count": 5,
      "outputs": []
    },
    {
      "cell_type": "code",
      "metadata": {
        "id": "oCG950qYDycT"
      },
      "source": [
        "class CountMin():\n",
        "\n",
        "  def __init__(self, w, d):\n",
        "    \"\"\"\n",
        "    Parameters :\n",
        "    > w : int. Number of Rows.\n",
        "    > d : int. Number of columns.\n",
        "\n",
        "    Other Variables Initialised :\n",
        "    > __summary : 2D Array used in the Sketch.\n",
        "    > __hashFunctions : List of hashfunctions, one for each row.\n",
        "    \"\"\"\n",
        "    self.__w = w\n",
        "    self.__d = d\n",
        "    self.__summary = np.zeros((w,d))\n",
        "    self.__hashFunctions = [HashFunction1(d) for _ in range(w)]\n",
        "  \n",
        "  def process(self,x,y):\n",
        "    \"\"\"\n",
        "    Parameters :\n",
        "    > x : int. Identifier for an element.\n",
        "    > y : int. Frequency for this element/\n",
        "    \"\"\"\n",
        "    w,d = self.__w, self.__d\n",
        "    hashFunctions = self.__hashFunctions\n",
        "    for i in range(w):\n",
        "      # a stores the column index\n",
        "      a = hashFunctions[i][x]\n",
        "      self.__summary[i][a] += y\n",
        "  \n",
        "  def query(self,x):\n",
        "    \"\"\"\n",
        "    Parameters :\n",
        "    > x : int. Element whose frequency is queried.\n",
        "    \"\"\"\n",
        "    w,d = self.__w, self.__d\n",
        "    hashFunctions = self.__hashFunctions\n",
        "    ans = float('inf')\n",
        "    for i in range(w):\n",
        "      a = hashFunctions[i][x]\n",
        "      b = self.__summary[i][a]\n",
        "      # Taking min estimates from each row.\n",
        "      ans = min(ans,b)\n",
        "    return ans"
      ],
      "execution_count": 6,
      "outputs": []
    },
    {
      "cell_type": "code",
      "metadata": {
        "id": "1VCIbTcelNR1"
      },
      "source": [
        "class Count():\n",
        "  def __init__(self,w,d):\n",
        "    \"\"\"\n",
        "    Parameters :\n",
        "    > w : int. Number of Rows.\n",
        "    > d : int. Number of columns.\n",
        "\n",
        "    Other Variables Initialised :\n",
        "    > __summary : 2D Array used in the Sketch.\n",
        "    > __hashFunctions1 : List of hashfunctions, one for each row. Will map to one of the columns in a row.\n",
        "    > __hashFunctions2 : List of hashfunctions, one for each row. Will map to -1 or 1.\n",
        "    \"\"\"\n",
        "    self.__w = w\n",
        "    self.__d = d\n",
        "    self.__summary = np.zeros((w,d))\n",
        "    self.__hashFunctions1 = [HashFunction1(d) for _ in range(w)]\n",
        "    self.__hashFunctions2 = [HashFunction2() for _ in range(w)]\n",
        "  \n",
        "  def process(self,x,y):\n",
        "    \"\"\"\n",
        "    Parameters :\n",
        "    > x : int. Identifier for an element.\n",
        "    > y : int. Frequency for this element/\n",
        "    \"\"\"\n",
        "    w,d = self.__w, self.__d\n",
        "    hashFunctions1 = self.__hashFunctions1\n",
        "    hashFunctions2 = self.__hashFunctions2\n",
        "    for i in range(w):\n",
        "      # a stores the column index\n",
        "      a = hashFunctions1[i][x]\n",
        "      # b is either -1 or 1\n",
        "      b = hashFunctions2[i][x]\n",
        "      self.__summary[i][a] += (b*y)\n",
        "  \n",
        "  def query(self,x):\n",
        "    w,d = self.__w, self.__d\n",
        "    hashFunctions1 = self.__hashFunctions1\n",
        "    hashFunctions2 = self.__hashFunctions2\n",
        "    # Will stores the estimates from each row.\n",
        "    vals = []\n",
        "    for i in range(w):\n",
        "      a = hashFunctions1[i][x]\n",
        "      b = hashFunctions2[i][x]\n",
        "      val = b*self.__summary[i][a]\n",
        "      vals.append(val)\n",
        "    # Returning the Median\n",
        "    return median(vals)"
      ],
      "execution_count": 7,
      "outputs": []
    },
    {
      "cell_type": "code",
      "metadata": {
        "colab": {
          "base_uri": "https://localhost:8080/"
        },
        "id": "Gn5Dm2Igtjrb",
        "outputId": "1160344e-a802-464e-cfdf-a206dbd496fc"
      },
      "source": [
        "# Data Stream\n",
        "data = np.array(pd.read_csv(\"/content/dataset.csv\", header = None))\n",
        "print(data.shape)\n",
        "\n",
        "# Top 1k most frequent elements\n",
        "queries = np.array(pd.read_csv(\"/content/queries.csv\", header = None))\n",
        "print(queries.shape)\n",
        "\n",
        "# Creating Random sample of size 100\n",
        "queries = queries[np.random.randint(0,1000,100)]\n",
        "print(queries.shape)"
      ],
      "execution_count": 8,
      "outputs": [
        {
          "output_type": "stream",
          "text": [
            "(1467345, 2)\n",
            "(1000, 2)\n",
            "(100, 2)\n"
          ],
          "name": "stdout"
        }
      ]
    },
    {
      "cell_type": "code",
      "metadata": {
        "id": "DHC6090bt2PH",
        "colab": {
          "base_uri": "https://localhost:8080/"
        },
        "outputId": "7cfc8bb5-7a65-47f0-89c6-bbe01fc403ed"
      },
      "source": [
        "w = 5\n",
        "cms_errors = []\n",
        "for k in [100,500,1000,2000]:\n",
        "  d = k//w\n",
        "  CMS = CountMin(w,d)\n",
        "  for i in tqdm(range(len(data))):\n",
        "    x,y = data[i][0],data[i][1]\n",
        "    CMS.process(x,y)\n",
        "  err = 0\n",
        "  for i in range(len(queries)):\n",
        "    x,y = queries[i][0],queries[i][1]\n",
        "    yhat = CMS.query(x)\n",
        "    err += (abs(yhat-y)/y)\n",
        "  err = err/len(queries)\n",
        "  cms_errors.append(err)"
      ],
      "execution_count": 9,
      "outputs": [
        {
          "output_type": "stream",
          "text": [
            "100%|██████████| 1467345/1467345 [00:20<00:00, 72703.68it/s]\n",
            "100%|██████████| 1467345/1467345 [00:20<00:00, 72231.91it/s]\n",
            "100%|██████████| 1467345/1467345 [00:20<00:00, 72827.79it/s]\n",
            "100%|██████████| 1467345/1467345 [00:20<00:00, 71851.45it/s]\n"
          ],
          "name": "stderr"
        }
      ]
    },
    {
      "cell_type": "code",
      "metadata": {
        "id": "J0hPNKL4EHl5",
        "colab": {
          "base_uri": "https://localhost:8080/"
        },
        "outputId": "748ee3e1-5ac8-4f6d-c65e-44ea42b6ab02"
      },
      "source": [
        "w = 5\n",
        "cs_errors = []\n",
        "for k in [100,500,1000,2000]:\n",
        "  d = k//w\n",
        "  CS = Count(w,d)\n",
        "  for i in tqdm(range(len(data))):\n",
        "    x,y = data[i][0],data[i][1]\n",
        "    CS.process(x,y)\n",
        "  err = 0\n",
        "  for i in range(len(queries)):\n",
        "    x,y = queries[i][0],queries[i][1]\n",
        "    yhat = CS.query(x)\n",
        "    err += (abs(yhat-y)/y)\n",
        "  err = err/len(queries)\n",
        "  cs_errors.append(err)"
      ],
      "execution_count": 10,
      "outputs": [
        {
          "output_type": "stream",
          "text": [
            "100%|██████████| 1467345/1467345 [00:35<00:00, 41893.09it/s]\n",
            "100%|██████████| 1467345/1467345 [00:35<00:00, 41627.49it/s]\n",
            "100%|██████████| 1467345/1467345 [00:34<00:00, 42077.34it/s]\n",
            "100%|██████████| 1467345/1467345 [00:36<00:00, 40739.01it/s]\n"
          ],
          "name": "stderr"
        }
      ]
    },
    {
      "cell_type": "code",
      "metadata": {
        "id": "hVZ5yCRCL2Kq"
      },
      "source": [
        "mgs_errors = []\n",
        "for k in [100,500,1000,2000]:\n",
        "  MGS = MisraGries(k)\n",
        "  for i in range(len(data)):\n",
        "    x,y = data[i][0],data[i][1]\n",
        "    MGS.process(x,y)\n",
        "    err = 0\n",
        "  for i in range(len(queries)):\n",
        "    x,y = queries[i][0],queries[i][1]\n",
        "    yhat = MGS.query(x)\n",
        "    err += (abs(yhat-y)/y)\n",
        "  err = err/len(queries)\n",
        "  mgs_errors.append(err)"
      ],
      "execution_count": 11,
      "outputs": []
    },
    {
      "cell_type": "code",
      "metadata": {
        "id": "-gUnPvo5Aro6",
        "colab": {
          "base_uri": "https://localhost:8080/",
          "height": 265
        },
        "outputId": "447b81ae-e2ed-4a36-f801-298ef850ee91"
      },
      "source": [
        "plt.plot([100,500,1000,2000], cms_errors, label = \"Count-Min\")\n",
        "plt.plot([100,500,1000,2000], cs_errors, label = \"Count\")\n",
        "plt.plot([100,500,1000,2000], mgs_errors, label = \"Misra-Gries\")\n",
        "plt.legend(loc='best')\n",
        "plt.show()"
      ],
      "execution_count": 12,
      "outputs": [
        {
          "output_type": "display_data",
          "data": {
            "image/png": "[encoded data removed]",
            "text/plain": [
              "<Figure size 432x288 with 1 Axes>"
            ]
          },
          "metadata": {
            "tags": [],
            "needs_background": "light"
          }
        }
      ]
    }
  ]
}